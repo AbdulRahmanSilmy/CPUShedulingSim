{
 "cells": [
  {
   "cell_type": "markdown",
   "metadata": {},
   "source": [
    "# Demo for cpu_scheduling_compute\n",
    "\n",
    "This work notebook demonstrate how to interface with the functions within the compute module. \n",
    "\n",
    "Details regarding the unique dictionary structure for each CPU scheduling algorithm is made clear."
   ]
  },
  {
   "cell_type": "code",
   "execution_count": 1,
   "metadata": {},
   "outputs": [],
   "source": [
    "from modules.compute import cpu_scheduling_compute\n",
    "import matplotlib.pyplot as plt\n",
    "import numpy as np"
   ]
  },
  {
   "cell_type": "markdown",
   "metadata": {},
   "source": [
    "## Functions "
   ]
  },
  {
   "cell_type": "code",
   "execution_count": 2,
   "metadata": {},
   "outputs": [],
   "source": [
    "#temp plotting to see results\n",
    "def plot_results(results):\n",
    "    for row in results:\n",
    "        centre=np.mean(row[1:3])\n",
    "        width=row[2]-row[1]\n",
    "        height=row[3]\n",
    "        label=f'task {int(row[0])+1}'\n",
    "        plt.bar(centre,height,width,label=label)\n",
    "\n",
    "    plt.legend()\n",
    "    plt.grid()\n",
    "    plt.ylim(0,1.5)\n",
    "    plt.show()"
   ]
  },
  {
   "cell_type": "markdown",
   "metadata": {},
   "source": [
    "## Demo usage of FCFS"
   ]
  },
  {
   "cell_type": "code",
   "execution_count": 3,
   "metadata": {},
   "outputs": [],
   "source": [
    "task_info={\"scheduling_algo\":'first_come_first_serve',\n",
    "           'release_time':[4,3,2,15,20],\n",
    "           'wc_exec_time':[2,4,5,3,9]}\n",
    "\n",
    "results=cpu_scheduling_compute(task_info)"
   ]
  },
  {
   "cell_type": "code",
   "execution_count": 4,
   "metadata": {},
   "outputs": [
    {
     "data": {
      "text/plain": [
       "array([[ 2.,  2.,  7.,  1.],\n",
       "       [ 1.,  7., 11.,  1.],\n",
       "       [ 0., 11., 13.,  1.],\n",
       "       [ 3., 15., 18.,  1.],\n",
       "       [ 4., 20., 29.,  1.]])"
      ]
     },
     "execution_count": 4,
     "metadata": {},
     "output_type": "execute_result"
    }
   ],
   "source": [
    "results"
   ]
  },
  {
   "cell_type": "code",
   "execution_count": 5,
   "metadata": {},
   "outputs": [
    {
     "data": {
      "image/png": "[encoded data removed]",
      "text/plain": [
       "<Figure size 432x288 with 1 Axes>"
      ]
     },
     "metadata": {
      "needs_background": "light"
     },
     "output_type": "display_data"
    }
   ],
   "source": [
    "plot_results(results)"
   ]
  }
 ],
 "metadata": {
  "kernelspec": {
   "display_name": "base",
   "language": "python",
   "name": "python3"
  },
  "language_info": {
   "codemirror_mode": {
    "name": "ipython",
    "version": 3
   },
   "file_extension": ".py",
   "mimetype": "text/x-python",
   "name": "python",
   "nbconvert_exporter": "python",
   "pygments_lexer": "ipython3",
   "version": "3.8.5"
  }
 },
 "nbformat": 4,
 "nbformat_minor": 2
}
